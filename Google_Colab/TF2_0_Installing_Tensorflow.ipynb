{
  "nbformat": 4,
  "nbformat_minor": 0,
  "metadata": {
    "colab": {
      "provenance": []
    },
    "kernelspec": {
      "name": "python3",
      "display_name": "Python 3"
    },
    "language_info": {
      "name": "python"
    }
  },
  "cells": [
    {
      "cell_type": "code",
      "execution_count": 1,
      "metadata": {
        "colab": {
          "base_uri": "https://localhost:8080/"
        },
        "id": "MwrxeSg7EVEk",
        "outputId": "4887c569-9ed3-4b79-ebb7-acd065249749"
      },
      "outputs": [
        {
          "output_type": "stream",
          "name": "stdout",
          "text": [
            "2.15.0\n"
          ]
        }
      ],
      "source": [
        "# What's already installed?\n",
        "# import tensorflow as tf\n",
        "# print(tf.__version__)"
      ]
    },
    {
      "cell_type": "code",
      "source": [
        "# Install TensorFlow 2.0\n",
        "# You can run regular shell commands by prepending !\n",
        "# !pip install -q tensorflow==2.0.0-beta1\n",
        "\n",
        "# GPU version\n",
        "# !pip install -q tensorflow-gpu==2.0.0-beta1"
      ],
      "metadata": {
        "id": "w-qARAfVE_yV"
      },
      "execution_count": 1,
      "outputs": []
    },
    {
      "cell_type": "code",
      "source": [
        "##### UPDATE 2020 #####\n",
        "# new feature of colab - you can just use this\n",
        "try:\n",
        "  %tensorflow_version 2.x  # Colab only.\n",
        "except Exception:\n",
        "  pass"
      ],
      "metadata": {
        "colab": {
          "base_uri": "https://localhost:8080/"
        },
        "id": "ze5qzLjcFX3O",
        "outputId": "c12fae95-742e-4ff9-d15c-ea6c2f6fe2a8"
      },
      "execution_count": 2,
      "outputs": [
        {
          "output_type": "stream",
          "name": "stdout",
          "text": [
            "Colab only includes TensorFlow 2.x; %tensorflow_version has no effect.\n"
          ]
        }
      ]
    },
    {
      "cell_type": "code",
      "source": [
        "# Check Tensorflow version again\n",
        "import tensorflow as tf\n",
        "print(tf.__version__)"
      ],
      "metadata": {
        "colab": {
          "base_uri": "https://localhost:8080/"
        },
        "id": "8--Q7inoFpNu",
        "outputId": "4779a1d3-e21e-407f-ea77-6514e60317a5"
      },
      "execution_count": 3,
      "outputs": [
        {
          "output_type": "stream",
          "name": "stdout",
          "text": [
            "2.15.0\n"
          ]
        }
      ]
    },
    {
      "cell_type": "code",
      "source": [
        "# How to install a library permanently?\n",
        "# https://stackoverflow.com/questions/55253498/how-do-i-install-a-library-permanently-in-colab"
      ],
      "metadata": {
        "id": "15lZOocmFyA_"
      },
      "execution_count": 4,
      "outputs": []
    },
    {
      "cell_type": "code",
      "source": [
        "# More fun with !\n",
        "!ls"
      ],
      "metadata": {
        "colab": {
          "base_uri": "https://localhost:8080/"
        },
        "id": "2ZghEo0CF3ks",
        "outputId": "6306c02a-b72e-41d0-f3f3-f26c26653655"
      },
      "execution_count": 5,
      "outputs": [
        {
          "output_type": "stream",
          "name": "stdout",
          "text": [
            "sample_data\n"
          ]
        }
      ]
    },
    {
      "cell_type": "code",
      "source": [
        "# More fun with !\n",
        "# Nice! Looks like we already have some useful data to work with\n",
        "!ls sample_data"
      ],
      "metadata": {
        "colab": {
          "base_uri": "https://localhost:8080/"
        },
        "id": "5AVNTYQXF9RT",
        "outputId": "7f8690af-e139-448d-c29d-393a4779adef"
      },
      "execution_count": 6,
      "outputs": [
        {
          "output_type": "stream",
          "name": "stdout",
          "text": [
            "anscombe.json\t\t     california_housing_train.csv  mnist_train_small.csv\n",
            "california_housing_test.csv  mnist_test.csv\t\t   README.md\n"
          ]
        }
      ]
    }
  ]
}