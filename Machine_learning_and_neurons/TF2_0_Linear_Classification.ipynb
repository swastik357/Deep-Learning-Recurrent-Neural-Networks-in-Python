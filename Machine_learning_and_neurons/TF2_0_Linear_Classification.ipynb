{
  "nbformat": 4,
  "nbformat_minor": 0,
  "metadata": {
    "colab": {
      "provenance": []
    },
    "kernelspec": {
      "name": "python3",
      "display_name": "Python 3"
    },
    "language_info": {
      "name": "python"
    }
  },
  "cells": [
    {
      "cell_type": "code",
      "execution_count": 1,
      "metadata": {
        "colab": {
          "base_uri": "https://localhost:8080/"
        },
        "id": "3GA2TPPjWln4",
        "outputId": "60af3175-dad5-4e7d-89d5-c6e80e092275"
      },
      "outputs": [
        {
          "output_type": "stream",
          "name": "stdout",
          "text": [
            "Colab only includes TensorFlow 2.x; %tensorflow_version has no effect.\n",
            "2.15.0\n"
          ]
        }
      ],
      "source": [
        "# Install TensorFlow\n",
        "# !pip install -q tensorflow-gpu==2.0.0-beta1\n",
        "\n",
        "try:\n",
        "  %tensorflow_version 2.x  # Colab only.\n",
        "except Exception:\n",
        "  pass\n",
        "\n",
        "import tensorflow as tf\n",
        "print(tf.__version__)"
      ]
    },
    {
      "cell_type": "code",
      "source": [
        "# Load in the data\n",
        "from sklearn.datasets import load_breast_cancer"
      ],
      "metadata": {
        "id": "5TPKCBobWuB7"
      },
      "execution_count": 2,
      "outputs": []
    },
    {
      "cell_type": "code",
      "source": [
        "# load the data\n",
        "data = load_breast_cancer()"
      ],
      "metadata": {
        "id": "M60nU6s_XA6z"
      },
      "execution_count": 3,
      "outputs": []
    },
    {
      "cell_type": "code",
      "source": [
        "# check the type of 'data'\n",
        "type(data)"
      ],
      "metadata": {
        "colab": {
          "base_uri": "https://localhost:8080/"
        },
        "id": "SyJnd56NXDoQ",
        "outputId": "fd137abd-4454-4db8-cbd1-97d519e8860a"
      },
      "execution_count": 4,
      "outputs": [
        {
          "output_type": "execute_result",
          "data": {
            "text/plain": [
              "sklearn.utils._bunch.Bunch"
            ]
          },
          "metadata": {},
          "execution_count": 4
        }
      ]
    },
    {
      "cell_type": "code",
      "source": [
        "# note: it is a Bunch object\n",
        "# this basically acts like a dictionary where you can treat the keys like attributes\n",
        "data.keys()"
      ],
      "metadata": {
        "colab": {
          "base_uri": "https://localhost:8080/"
        },
        "id": "x7tvk-exXHMm",
        "outputId": "93927eb5-7480-4d10-90a1-cdd08b69229b"
      },
      "execution_count": 5,
      "outputs": [
        {
          "output_type": "execute_result",
          "data": {
            "text/plain": [
              "dict_keys(['data', 'target', 'frame', 'target_names', 'DESCR', 'feature_names', 'filename', 'data_module'])"
            ]
          },
          "metadata": {},
          "execution_count": 5
        }
      ]
    },
    {
      "cell_type": "code",
      "source": [
        "# 'data' (the attribute) means the input data\n",
        "data.data.shape\n",
        "# it has 569 samples, 30 features"
      ],
      "metadata": {
        "colab": {
          "base_uri": "https://localhost:8080/"
        },
        "id": "Ic9rVDIeXKpO",
        "outputId": "7569b93d-353f-4fbe-b879-ce09050d40d7"
      },
      "execution_count": 6,
      "outputs": [
        {
          "output_type": "execute_result",
          "data": {
            "text/plain": [
              "(569, 30)"
            ]
          },
          "metadata": {},
          "execution_count": 6
        }
      ]
    },
    {
      "cell_type": "code",
      "source": [
        "# 'targets'\n",
        "data.target\n",
        "# note how the targets are just 0s and 1s\n",
        "# normally, when you have K targets, they are labeled 0..K-1"
      ],
      "metadata": {
        "colab": {
          "base_uri": "https://localhost:8080/"
        },
        "id": "Cjt3CWJoXO8x",
        "outputId": "62c5ac18-9c5c-41cd-e334-a19308e82342"
      },
      "execution_count": 7,
      "outputs": [
        {
          "output_type": "execute_result",
          "data": {
            "text/plain": [
              "array([0, 0, 0, 0, 0, 0, 0, 0, 0, 0, 0, 0, 0, 0, 0, 0, 0, 0, 0, 1, 1, 1,\n",
              "       0, 0, 0, 0, 0, 0, 0, 0, 0, 0, 0, 0, 0, 0, 0, 1, 0, 0, 0, 0, 0, 0,\n",
              "       0, 0, 1, 0, 1, 1, 1, 1, 1, 0, 0, 1, 0, 0, 1, 1, 1, 1, 0, 1, 0, 0,\n",
              "       1, 1, 1, 1, 0, 1, 0, 0, 1, 0, 1, 0, 0, 1, 1, 1, 0, 0, 1, 0, 0, 0,\n",
              "       1, 1, 1, 0, 1, 1, 0, 0, 1, 1, 1, 0, 0, 1, 1, 1, 1, 0, 1, 1, 0, 1,\n",
              "       1, 1, 1, 1, 1, 1, 1, 0, 0, 0, 1, 0, 0, 1, 1, 1, 0, 0, 1, 0, 1, 0,\n",
              "       0, 1, 0, 0, 1, 1, 0, 1, 1, 0, 1, 1, 1, 1, 0, 1, 1, 1, 1, 1, 1, 1,\n",
              "       1, 1, 0, 1, 1, 1, 1, 0, 0, 1, 0, 1, 1, 0, 0, 1, 1, 0, 0, 1, 1, 1,\n",
              "       1, 0, 1, 1, 0, 0, 0, 1, 0, 1, 0, 1, 1, 1, 0, 1, 1, 0, 0, 1, 0, 0,\n",
              "       0, 0, 1, 0, 0, 0, 1, 0, 1, 0, 1, 1, 0, 1, 0, 0, 0, 0, 1, 1, 0, 0,\n",
              "       1, 1, 1, 0, 1, 1, 1, 1, 1, 0, 0, 1, 1, 0, 1, 1, 0, 0, 1, 0, 1, 1,\n",
              "       1, 1, 0, 1, 1, 1, 1, 1, 0, 1, 0, 0, 0, 0, 0, 0, 0, 0, 0, 0, 0, 0,\n",
              "       0, 0, 1, 1, 1, 1, 1, 1, 0, 1, 0, 1, 1, 0, 1, 1, 0, 1, 0, 0, 1, 1,\n",
              "       1, 1, 1, 1, 1, 1, 1, 1, 1, 1, 1, 0, 1, 1, 0, 1, 0, 1, 1, 1, 1, 1,\n",
              "       1, 1, 1, 1, 1, 1, 1, 1, 1, 0, 1, 1, 1, 0, 1, 0, 1, 1, 1, 1, 0, 0,\n",
              "       0, 1, 1, 1, 1, 0, 1, 0, 1, 0, 1, 1, 1, 0, 1, 1, 1, 1, 1, 1, 1, 0,\n",
              "       0, 0, 1, 1, 1, 1, 1, 1, 1, 1, 1, 1, 1, 0, 0, 1, 0, 0, 0, 1, 0, 0,\n",
              "       1, 1, 1, 1, 1, 0, 1, 1, 1, 1, 1, 0, 1, 1, 1, 0, 1, 1, 0, 0, 1, 1,\n",
              "       1, 1, 1, 1, 0, 1, 1, 1, 1, 1, 1, 1, 0, 1, 1, 1, 1, 1, 0, 1, 1, 0,\n",
              "       1, 1, 1, 1, 1, 1, 1, 1, 1, 1, 1, 1, 0, 1, 0, 0, 1, 0, 1, 1, 1, 1,\n",
              "       1, 0, 1, 1, 0, 1, 0, 1, 1, 0, 1, 0, 1, 1, 1, 1, 1, 1, 1, 1, 0, 0,\n",
              "       1, 1, 1, 1, 1, 1, 0, 1, 1, 1, 1, 1, 1, 1, 1, 1, 1, 0, 1, 1, 1, 1,\n",
              "       1, 1, 1, 0, 1, 0, 1, 1, 0, 1, 1, 1, 1, 1, 0, 0, 1, 0, 1, 0, 1, 1,\n",
              "       1, 1, 1, 0, 1, 1, 0, 1, 0, 1, 0, 0, 1, 1, 1, 0, 1, 1, 1, 1, 1, 1,\n",
              "       1, 1, 1, 1, 1, 0, 1, 0, 0, 1, 1, 1, 1, 1, 1, 1, 1, 1, 1, 1, 1, 1,\n",
              "       1, 1, 1, 1, 1, 1, 1, 1, 1, 1, 1, 1, 0, 0, 0, 0, 0, 0, 1])"
            ]
          },
          "metadata": {},
          "execution_count": 7
        }
      ]
    },
    {
      "cell_type": "code",
      "source": [
        "# their meaning is not lost\n",
        "data.target_names"
      ],
      "metadata": {
        "colab": {
          "base_uri": "https://localhost:8080/"
        },
        "id": "R0czJ26DXTOg",
        "outputId": "03925100-67e4-4256-da54-8bc67805b3cc"
      },
      "execution_count": 8,
      "outputs": [
        {
          "output_type": "execute_result",
          "data": {
            "text/plain": [
              "array(['malignant', 'benign'], dtype='<U9')"
            ]
          },
          "metadata": {},
          "execution_count": 8
        }
      ]
    },
    {
      "cell_type": "code",
      "source": [
        "# there are also 569 corresponding targets\n",
        "data.target.shape"
      ],
      "metadata": {
        "colab": {
          "base_uri": "https://localhost:8080/"
        },
        "id": "m1dWNVk1XcGL",
        "outputId": "3cd4c1da-e7bb-4244-bc4c-b826bf57059f"
      },
      "execution_count": 9,
      "outputs": [
        {
          "output_type": "execute_result",
          "data": {
            "text/plain": [
              "(569,)"
            ]
          },
          "metadata": {},
          "execution_count": 9
        }
      ]
    },
    {
      "cell_type": "code",
      "source": [
        "# you can also determine the meaning of each feature\n",
        "data.feature_names"
      ],
      "metadata": {
        "colab": {
          "base_uri": "https://localhost:8080/"
        },
        "id": "N7Pv_OOtXgG-",
        "outputId": "f507fe37-b429-4ec1-ad03-4d81a4445440"
      },
      "execution_count": 10,
      "outputs": [
        {
          "output_type": "execute_result",
          "data": {
            "text/plain": [
              "array(['mean radius', 'mean texture', 'mean perimeter', 'mean area',\n",
              "       'mean smoothness', 'mean compactness', 'mean concavity',\n",
              "       'mean concave points', 'mean symmetry', 'mean fractal dimension',\n",
              "       'radius error', 'texture error', 'perimeter error', 'area error',\n",
              "       'smoothness error', 'compactness error', 'concavity error',\n",
              "       'concave points error', 'symmetry error',\n",
              "       'fractal dimension error', 'worst radius', 'worst texture',\n",
              "       'worst perimeter', 'worst area', 'worst smoothness',\n",
              "       'worst compactness', 'worst concavity', 'worst concave points',\n",
              "       'worst symmetry', 'worst fractal dimension'], dtype='<U23')"
            ]
          },
          "metadata": {},
          "execution_count": 10
        }
      ]
    },
    {
      "cell_type": "code",
      "source": [
        "# normally we would put all of our imports at the top\n",
        "# but this lets us tell a story\n",
        "from sklearn.model_selection import train_test_split\n",
        "\n",
        "\n",
        "# split the data into train and test sets\n",
        "# this lets us simulate how our model will perform in the future\n",
        "X_train, X_test, y_train, y_test = train_test_split(data.data, data.target, test_size=0.33)\n",
        "N, D = X_train.shape"
      ],
      "metadata": {
        "id": "kVw2iiqqXpUi"
      },
      "execution_count": 11,
      "outputs": []
    },
    {
      "cell_type": "code",
      "source": [
        "# Scale the data\n",
        "# you'll learn why scaling is needed in a later course\n",
        "from sklearn.preprocessing import StandardScaler\n",
        "\n",
        "scaler = StandardScaler()\n",
        "X_train = scaler.fit_transform(X_train)\n",
        "X_test = scaler.transform(X_test)"
      ],
      "metadata": {
        "id": "viLbOYxaX8Hw"
      },
      "execution_count": 12,
      "outputs": []
    },
    {
      "cell_type": "code",
      "source": [
        "# Now all the fun Tensorflow stuff\n",
        "# Build the model\n",
        "\n",
        "model = tf.keras.models.Sequential([\n",
        "  tf.keras.layers.Input(shape=(D,)),\n",
        "  tf.keras.layers.Dense(1, activation='sigmoid')\n",
        "])\n",
        "\n",
        "# Alternatively, you can do:\n",
        "# model = tf.keras.models.Sequential()\n",
        "# model.add(tf.keras.layers.Dense(1, input_shape=(D,), activation='sigmoid'))\n",
        "\n",
        "model.compile(optimizer='adam',\n",
        "              loss='binary_crossentropy',\n",
        "              metrics=['accuracy'])\n",
        "\n",
        "\n",
        "# Train the model\n",
        "r = model.fit(X_train, y_train, validation_data=(X_test, y_test), epochs=100)\n",
        "\n",
        "\n",
        "# Evaluate the model - evaluate() returns loss and accuracy\n",
        "print(\"Train score:\", model.evaluate(X_train, y_train))\n",
        "print(\"Test score:\", model.evaluate(X_test, y_test))"
      ],
      "metadata": {
        "colab": {
          "base_uri": "https://localhost:8080/"
        },
        "id": "6nCFCcO_X_kC",
        "outputId": "e27bef1c-b7a9-4c1f-85aa-cd55c050f1cc"
      },
      "execution_count": 13,
      "outputs": [
        {
          "output_type": "stream",
          "name": "stdout",
          "text": [
            "Epoch 1/100\n",
            "12/12 [==============================] - 1s 16ms/step - loss: 0.5522 - accuracy: 0.7008 - val_loss: 0.5537 - val_accuracy: 0.7181\n",
            "Epoch 2/100\n",
            "12/12 [==============================] - 0s 5ms/step - loss: 0.5003 - accuracy: 0.7559 - val_loss: 0.5107 - val_accuracy: 0.7713\n",
            "Epoch 3/100\n",
            "12/12 [==============================] - 0s 5ms/step - loss: 0.4581 - accuracy: 0.8005 - val_loss: 0.4727 - val_accuracy: 0.8085\n",
            "Epoch 4/100\n",
            "12/12 [==============================] - 0s 3ms/step - loss: 0.4204 - accuracy: 0.8320 - val_loss: 0.4420 - val_accuracy: 0.8298\n",
            "Epoch 5/100\n",
            "12/12 [==============================] - 0s 3ms/step - loss: 0.3902 - accuracy: 0.8556 - val_loss: 0.4153 - val_accuracy: 0.8511\n",
            "Epoch 6/100\n",
            "12/12 [==============================] - 0s 3ms/step - loss: 0.3640 - accuracy: 0.8661 - val_loss: 0.3924 - val_accuracy: 0.8617\n",
            "Epoch 7/100\n",
            "12/12 [==============================] - 0s 5ms/step - loss: 0.3420 - accuracy: 0.8793 - val_loss: 0.3724 - val_accuracy: 0.8670\n",
            "Epoch 8/100\n",
            "12/12 [==============================] - 0s 5ms/step - loss: 0.3229 - accuracy: 0.8871 - val_loss: 0.3543 - val_accuracy: 0.8777\n",
            "Epoch 9/100\n",
            "12/12 [==============================] - 0s 3ms/step - loss: 0.3060 - accuracy: 0.8950 - val_loss: 0.3387 - val_accuracy: 0.8830\n",
            "Epoch 10/100\n",
            "12/12 [==============================] - 0s 5ms/step - loss: 0.2910 - accuracy: 0.9003 - val_loss: 0.3242 - val_accuracy: 0.8989\n",
            "Epoch 11/100\n",
            "12/12 [==============================] - 0s 4ms/step - loss: 0.2774 - accuracy: 0.9134 - val_loss: 0.3116 - val_accuracy: 0.8989\n",
            "Epoch 12/100\n",
            "12/12 [==============================] - 0s 4ms/step - loss: 0.2658 - accuracy: 0.9213 - val_loss: 0.2994 - val_accuracy: 0.8989\n",
            "Epoch 13/100\n",
            "12/12 [==============================] - 0s 4ms/step - loss: 0.2550 - accuracy: 0.9239 - val_loss: 0.2888 - val_accuracy: 0.9043\n",
            "Epoch 14/100\n",
            "12/12 [==============================] - 0s 5ms/step - loss: 0.2452 - accuracy: 0.9291 - val_loss: 0.2786 - val_accuracy: 0.9043\n",
            "Epoch 15/100\n",
            "12/12 [==============================] - 0s 3ms/step - loss: 0.2362 - accuracy: 0.9291 - val_loss: 0.2700 - val_accuracy: 0.9043\n",
            "Epoch 16/100\n",
            "12/12 [==============================] - 0s 3ms/step - loss: 0.2280 - accuracy: 0.9291 - val_loss: 0.2616 - val_accuracy: 0.9149\n",
            "Epoch 17/100\n",
            "12/12 [==============================] - 0s 4ms/step - loss: 0.2205 - accuracy: 0.9318 - val_loss: 0.2535 - val_accuracy: 0.9149\n",
            "Epoch 18/100\n",
            "12/12 [==============================] - 0s 5ms/step - loss: 0.2135 - accuracy: 0.9318 - val_loss: 0.2460 - val_accuracy: 0.9149\n",
            "Epoch 19/100\n",
            "12/12 [==============================] - 0s 5ms/step - loss: 0.2071 - accuracy: 0.9344 - val_loss: 0.2393 - val_accuracy: 0.9202\n",
            "Epoch 20/100\n",
            "12/12 [==============================] - 0s 3ms/step - loss: 0.2011 - accuracy: 0.9423 - val_loss: 0.2326 - val_accuracy: 0.9255\n",
            "Epoch 21/100\n",
            "12/12 [==============================] - 0s 5ms/step - loss: 0.1956 - accuracy: 0.9449 - val_loss: 0.2265 - val_accuracy: 0.9255\n",
            "Epoch 22/100\n",
            "12/12 [==============================] - 0s 4ms/step - loss: 0.1905 - accuracy: 0.9449 - val_loss: 0.2206 - val_accuracy: 0.9255\n",
            "Epoch 23/100\n",
            "12/12 [==============================] - 0s 5ms/step - loss: 0.1856 - accuracy: 0.9449 - val_loss: 0.2156 - val_accuracy: 0.9309\n",
            "Epoch 24/100\n",
            "12/12 [==============================] - 0s 4ms/step - loss: 0.1811 - accuracy: 0.9449 - val_loss: 0.2106 - val_accuracy: 0.9362\n",
            "Epoch 25/100\n",
            "12/12 [==============================] - 0s 5ms/step - loss: 0.1769 - accuracy: 0.9475 - val_loss: 0.2054 - val_accuracy: 0.9468\n",
            "Epoch 26/100\n",
            "12/12 [==============================] - 0s 3ms/step - loss: 0.1728 - accuracy: 0.9528 - val_loss: 0.2011 - val_accuracy: 0.9468\n",
            "Epoch 27/100\n",
            "12/12 [==============================] - 0s 4ms/step - loss: 0.1691 - accuracy: 0.9580 - val_loss: 0.1966 - val_accuracy: 0.9468\n",
            "Epoch 28/100\n",
            "12/12 [==============================] - 0s 3ms/step - loss: 0.1655 - accuracy: 0.9580 - val_loss: 0.1927 - val_accuracy: 0.9468\n",
            "Epoch 29/100\n",
            "12/12 [==============================] - 0s 4ms/step - loss: 0.1622 - accuracy: 0.9606 - val_loss: 0.1888 - val_accuracy: 0.9521\n",
            "Epoch 30/100\n",
            "12/12 [==============================] - 0s 5ms/step - loss: 0.1590 - accuracy: 0.9606 - val_loss: 0.1851 - val_accuracy: 0.9521\n",
            "Epoch 31/100\n",
            "12/12 [==============================] - 0s 4ms/step - loss: 0.1561 - accuracy: 0.9606 - val_loss: 0.1814 - val_accuracy: 0.9574\n",
            "Epoch 32/100\n",
            "12/12 [==============================] - 0s 3ms/step - loss: 0.1531 - accuracy: 0.9606 - val_loss: 0.1781 - val_accuracy: 0.9574\n",
            "Epoch 33/100\n",
            "12/12 [==============================] - 0s 3ms/step - loss: 0.1505 - accuracy: 0.9606 - val_loss: 0.1749 - val_accuracy: 0.9574\n",
            "Epoch 34/100\n",
            "12/12 [==============================] - 0s 3ms/step - loss: 0.1479 - accuracy: 0.9633 - val_loss: 0.1717 - val_accuracy: 0.9628\n",
            "Epoch 35/100\n",
            "12/12 [==============================] - 0s 5ms/step - loss: 0.1453 - accuracy: 0.9633 - val_loss: 0.1689 - val_accuracy: 0.9628\n",
            "Epoch 36/100\n",
            "12/12 [==============================] - 0s 3ms/step - loss: 0.1430 - accuracy: 0.9633 - val_loss: 0.1662 - val_accuracy: 0.9628\n",
            "Epoch 37/100\n",
            "12/12 [==============================] - 0s 3ms/step - loss: 0.1408 - accuracy: 0.9633 - val_loss: 0.1637 - val_accuracy: 0.9628\n",
            "Epoch 38/100\n",
            "12/12 [==============================] - 0s 3ms/step - loss: 0.1386 - accuracy: 0.9659 - val_loss: 0.1612 - val_accuracy: 0.9628\n",
            "Epoch 39/100\n",
            "12/12 [==============================] - 0s 3ms/step - loss: 0.1366 - accuracy: 0.9685 - val_loss: 0.1585 - val_accuracy: 0.9628\n",
            "Epoch 40/100\n",
            "12/12 [==============================] - 0s 3ms/step - loss: 0.1346 - accuracy: 0.9685 - val_loss: 0.1560 - val_accuracy: 0.9681\n",
            "Epoch 41/100\n",
            "12/12 [==============================] - 0s 3ms/step - loss: 0.1327 - accuracy: 0.9685 - val_loss: 0.1541 - val_accuracy: 0.9681\n",
            "Epoch 42/100\n",
            "12/12 [==============================] - 0s 5ms/step - loss: 0.1309 - accuracy: 0.9685 - val_loss: 0.1518 - val_accuracy: 0.9681\n",
            "Epoch 43/100\n",
            "12/12 [==============================] - 0s 3ms/step - loss: 0.1291 - accuracy: 0.9711 - val_loss: 0.1497 - val_accuracy: 0.9734\n",
            "Epoch 44/100\n",
            "12/12 [==============================] - 0s 5ms/step - loss: 0.1274 - accuracy: 0.9738 - val_loss: 0.1478 - val_accuracy: 0.9734\n",
            "Epoch 45/100\n",
            "12/12 [==============================] - 0s 3ms/step - loss: 0.1258 - accuracy: 0.9764 - val_loss: 0.1458 - val_accuracy: 0.9734\n",
            "Epoch 46/100\n",
            "12/12 [==============================] - 0s 3ms/step - loss: 0.1243 - accuracy: 0.9764 - val_loss: 0.1440 - val_accuracy: 0.9734\n",
            "Epoch 47/100\n",
            "12/12 [==============================] - 0s 3ms/step - loss: 0.1227 - accuracy: 0.9764 - val_loss: 0.1423 - val_accuracy: 0.9734\n",
            "Epoch 48/100\n",
            "12/12 [==============================] - 0s 3ms/step - loss: 0.1214 - accuracy: 0.9764 - val_loss: 0.1404 - val_accuracy: 0.9734\n",
            "Epoch 49/100\n",
            "12/12 [==============================] - 0s 3ms/step - loss: 0.1199 - accuracy: 0.9764 - val_loss: 0.1389 - val_accuracy: 0.9734\n",
            "Epoch 50/100\n",
            "12/12 [==============================] - 0s 3ms/step - loss: 0.1185 - accuracy: 0.9764 - val_loss: 0.1374 - val_accuracy: 0.9734\n",
            "Epoch 51/100\n",
            "12/12 [==============================] - 0s 3ms/step - loss: 0.1172 - accuracy: 0.9764 - val_loss: 0.1357 - val_accuracy: 0.9734\n",
            "Epoch 52/100\n",
            "12/12 [==============================] - 0s 3ms/step - loss: 0.1159 - accuracy: 0.9764 - val_loss: 0.1342 - val_accuracy: 0.9734\n",
            "Epoch 53/100\n",
            "12/12 [==============================] - 0s 3ms/step - loss: 0.1147 - accuracy: 0.9764 - val_loss: 0.1328 - val_accuracy: 0.9734\n",
            "Epoch 54/100\n",
            "12/12 [==============================] - 0s 5ms/step - loss: 0.1135 - accuracy: 0.9764 - val_loss: 0.1315 - val_accuracy: 0.9734\n",
            "Epoch 55/100\n",
            "12/12 [==============================] - 0s 5ms/step - loss: 0.1124 - accuracy: 0.9764 - val_loss: 0.1302 - val_accuracy: 0.9734\n",
            "Epoch 56/100\n",
            "12/12 [==============================] - 0s 5ms/step - loss: 0.1112 - accuracy: 0.9764 - val_loss: 0.1289 - val_accuracy: 0.9734\n",
            "Epoch 57/100\n",
            "12/12 [==============================] - 0s 3ms/step - loss: 0.1102 - accuracy: 0.9764 - val_loss: 0.1276 - val_accuracy: 0.9734\n",
            "Epoch 58/100\n",
            "12/12 [==============================] - 0s 5ms/step - loss: 0.1091 - accuracy: 0.9764 - val_loss: 0.1265 - val_accuracy: 0.9734\n",
            "Epoch 59/100\n",
            "12/12 [==============================] - 0s 5ms/step - loss: 0.1081 - accuracy: 0.9764 - val_loss: 0.1253 - val_accuracy: 0.9734\n",
            "Epoch 60/100\n",
            "12/12 [==============================] - 0s 4ms/step - loss: 0.1071 - accuracy: 0.9790 - val_loss: 0.1242 - val_accuracy: 0.9734\n",
            "Epoch 61/100\n",
            "12/12 [==============================] - 0s 5ms/step - loss: 0.1061 - accuracy: 0.9790 - val_loss: 0.1231 - val_accuracy: 0.9734\n",
            "Epoch 62/100\n",
            "12/12 [==============================] - 0s 4ms/step - loss: 0.1051 - accuracy: 0.9790 - val_loss: 0.1221 - val_accuracy: 0.9734\n",
            "Epoch 63/100\n",
            "12/12 [==============================] - 0s 6ms/step - loss: 0.1043 - accuracy: 0.9790 - val_loss: 0.1211 - val_accuracy: 0.9787\n",
            "Epoch 64/100\n",
            "12/12 [==============================] - 0s 5ms/step - loss: 0.1033 - accuracy: 0.9790 - val_loss: 0.1200 - val_accuracy: 0.9787\n",
            "Epoch 65/100\n",
            "12/12 [==============================] - 0s 4ms/step - loss: 0.1025 - accuracy: 0.9790 - val_loss: 0.1191 - val_accuracy: 0.9787\n",
            "Epoch 66/100\n",
            "12/12 [==============================] - 0s 4ms/step - loss: 0.1017 - accuracy: 0.9790 - val_loss: 0.1182 - val_accuracy: 0.9787\n",
            "Epoch 67/100\n",
            "12/12 [==============================] - 0s 4ms/step - loss: 0.1008 - accuracy: 0.9790 - val_loss: 0.1172 - val_accuracy: 0.9787\n",
            "Epoch 68/100\n",
            "12/12 [==============================] - 0s 4ms/step - loss: 0.1000 - accuracy: 0.9790 - val_loss: 0.1163 - val_accuracy: 0.9787\n",
            "Epoch 69/100\n",
            "12/12 [==============================] - 0s 6ms/step - loss: 0.0992 - accuracy: 0.9790 - val_loss: 0.1155 - val_accuracy: 0.9787\n",
            "Epoch 70/100\n",
            "12/12 [==============================] - 0s 6ms/step - loss: 0.0985 - accuracy: 0.9790 - val_loss: 0.1146 - val_accuracy: 0.9787\n",
            "Epoch 71/100\n",
            "12/12 [==============================] - 0s 5ms/step - loss: 0.0977 - accuracy: 0.9790 - val_loss: 0.1139 - val_accuracy: 0.9787\n",
            "Epoch 72/100\n",
            "12/12 [==============================] - 0s 6ms/step - loss: 0.0969 - accuracy: 0.9790 - val_loss: 0.1132 - val_accuracy: 0.9787\n",
            "Epoch 73/100\n",
            "12/12 [==============================] - 0s 5ms/step - loss: 0.0962 - accuracy: 0.9790 - val_loss: 0.1124 - val_accuracy: 0.9787\n",
            "Epoch 74/100\n",
            "12/12 [==============================] - 0s 4ms/step - loss: 0.0955 - accuracy: 0.9790 - val_loss: 0.1115 - val_accuracy: 0.9787\n",
            "Epoch 75/100\n",
            "12/12 [==============================] - 0s 5ms/step - loss: 0.0949 - accuracy: 0.9790 - val_loss: 0.1109 - val_accuracy: 0.9787\n",
            "Epoch 76/100\n",
            "12/12 [==============================] - 0s 6ms/step - loss: 0.0942 - accuracy: 0.9790 - val_loss: 0.1101 - val_accuracy: 0.9787\n",
            "Epoch 77/100\n",
            "12/12 [==============================] - 0s 4ms/step - loss: 0.0935 - accuracy: 0.9790 - val_loss: 0.1095 - val_accuracy: 0.9787\n",
            "Epoch 78/100\n",
            "12/12 [==============================] - 0s 4ms/step - loss: 0.0929 - accuracy: 0.9790 - val_loss: 0.1089 - val_accuracy: 0.9787\n",
            "Epoch 79/100\n",
            "12/12 [==============================] - 0s 4ms/step - loss: 0.0923 - accuracy: 0.9790 - val_loss: 0.1083 - val_accuracy: 0.9787\n",
            "Epoch 80/100\n",
            "12/12 [==============================] - 0s 4ms/step - loss: 0.0916 - accuracy: 0.9790 - val_loss: 0.1076 - val_accuracy: 0.9787\n",
            "Epoch 81/100\n",
            "12/12 [==============================] - 0s 5ms/step - loss: 0.0910 - accuracy: 0.9790 - val_loss: 0.1070 - val_accuracy: 0.9787\n",
            "Epoch 82/100\n",
            "12/12 [==============================] - 0s 5ms/step - loss: 0.0905 - accuracy: 0.9790 - val_loss: 0.1063 - val_accuracy: 0.9787\n",
            "Epoch 83/100\n",
            "12/12 [==============================] - 0s 3ms/step - loss: 0.0899 - accuracy: 0.9816 - val_loss: 0.1058 - val_accuracy: 0.9787\n",
            "Epoch 84/100\n",
            "12/12 [==============================] - 0s 3ms/step - loss: 0.0893 - accuracy: 0.9816 - val_loss: 0.1052 - val_accuracy: 0.9787\n",
            "Epoch 85/100\n",
            "12/12 [==============================] - 0s 5ms/step - loss: 0.0888 - accuracy: 0.9816 - val_loss: 0.1047 - val_accuracy: 0.9787\n",
            "Epoch 86/100\n",
            "12/12 [==============================] - 0s 3ms/step - loss: 0.0882 - accuracy: 0.9816 - val_loss: 0.1041 - val_accuracy: 0.9787\n",
            "Epoch 87/100\n",
            "12/12 [==============================] - 0s 3ms/step - loss: 0.0877 - accuracy: 0.9816 - val_loss: 0.1036 - val_accuracy: 0.9787\n",
            "Epoch 88/100\n",
            "12/12 [==============================] - 0s 5ms/step - loss: 0.0872 - accuracy: 0.9816 - val_loss: 0.1031 - val_accuracy: 0.9787\n",
            "Epoch 89/100\n",
            "12/12 [==============================] - 0s 3ms/step - loss: 0.0867 - accuracy: 0.9816 - val_loss: 0.1026 - val_accuracy: 0.9787\n",
            "Epoch 90/100\n",
            "12/12 [==============================] - 0s 5ms/step - loss: 0.0862 - accuracy: 0.9816 - val_loss: 0.1021 - val_accuracy: 0.9787\n",
            "Epoch 91/100\n",
            "12/12 [==============================] - 0s 4ms/step - loss: 0.0857 - accuracy: 0.9816 - val_loss: 0.1016 - val_accuracy: 0.9840\n",
            "Epoch 92/100\n",
            "12/12 [==============================] - 0s 5ms/step - loss: 0.0852 - accuracy: 0.9816 - val_loss: 0.1012 - val_accuracy: 0.9840\n",
            "Epoch 93/100\n",
            "12/12 [==============================] - 0s 3ms/step - loss: 0.0847 - accuracy: 0.9816 - val_loss: 0.1007 - val_accuracy: 0.9840\n",
            "Epoch 94/100\n",
            "12/12 [==============================] - 0s 5ms/step - loss: 0.0842 - accuracy: 0.9816 - val_loss: 0.1003 - val_accuracy: 0.9840\n",
            "Epoch 95/100\n",
            "12/12 [==============================] - 0s 5ms/step - loss: 0.0838 - accuracy: 0.9816 - val_loss: 0.0999 - val_accuracy: 0.9840\n",
            "Epoch 96/100\n",
            "12/12 [==============================] - 0s 5ms/step - loss: 0.0833 - accuracy: 0.9816 - val_loss: 0.0994 - val_accuracy: 0.9840\n",
            "Epoch 97/100\n",
            "12/12 [==============================] - 0s 3ms/step - loss: 0.0829 - accuracy: 0.9816 - val_loss: 0.0990 - val_accuracy: 0.9840\n",
            "Epoch 98/100\n",
            "12/12 [==============================] - 0s 4ms/step - loss: 0.0824 - accuracy: 0.9816 - val_loss: 0.0986 - val_accuracy: 0.9840\n",
            "Epoch 99/100\n",
            "12/12 [==============================] - 0s 3ms/step - loss: 0.0820 - accuracy: 0.9816 - val_loss: 0.0982 - val_accuracy: 0.9840\n",
            "Epoch 100/100\n",
            "12/12 [==============================] - 0s 5ms/step - loss: 0.0816 - accuracy: 0.9816 - val_loss: 0.0978 - val_accuracy: 0.9840\n",
            "12/12 [==============================] - 0s 1ms/step - loss: 0.0813 - accuracy: 0.9816\n",
            "Train score: [0.08133605122566223, 0.9816272854804993]\n",
            "6/6 [==============================] - 0s 2ms/step - loss: 0.0978 - accuracy: 0.9840\n",
            "Test score: [0.09782170504331589, 0.9840425252914429]\n"
          ]
        }
      ]
    },
    {
      "cell_type": "code",
      "source": [
        "# Plot what's returned by model.fit()\n",
        "import matplotlib.pyplot as plt\n",
        "plt.plot(r.history['loss'], label='loss')\n",
        "plt.plot(r.history['val_loss'], label='val_loss')\n",
        "plt.legend()"
      ],
      "metadata": {
        "colab": {
          "base_uri": "https://localhost:8080/",
          "height": 448
        },
        "id": "DYuQj2R2YGMe",
        "outputId": "928f75cb-1eba-4fe5-e1f0-d9aa819ae40e"
      },
      "execution_count": 14,
      "outputs": [
        {
          "output_type": "execute_result",
          "data": {
            "text/plain": [
              "<matplotlib.legend.Legend at 0x7e5f2965b820>"
            ]
          },
          "metadata": {},
          "execution_count": 14
        },
        {
          "output_type": "display_data",
          "data": {
            "text/plain": [
              "<Figure size 640x480 with 1 Axes>"
            ],
            "image/png": "[encoded data removed]"
          },
          "metadata": {}
        }
      ]
    },
    {
      "cell_type": "code",
      "source": [
        "# Plot the accuracy too\n",
        "plt.plot(r.history['accuracy'], label='acc')\n",
        "plt.plot(r.history['val_accuracy'], label='val_acc')\n",
        "plt.legend()"
      ],
      "metadata": {
        "colab": {
          "base_uri": "https://localhost:8080/",
          "height": 448
        },
        "id": "IlUfBeSsYPeU",
        "outputId": "8e7ad5df-3643-45fe-dd2c-26b6d636196f"
      },
      "execution_count": 15,
      "outputs": [
        {
          "output_type": "execute_result",
          "data": {
            "text/plain": [
              "<matplotlib.legend.Legend at 0x7e5f25447550>"
            ]
          },
          "metadata": {},
          "execution_count": 15
        },
        {
          "output_type": "display_data",
          "data": {
            "text/plain": [
              "<Figure size 640x480 with 1 Axes>"
            ],
            "image/png": "[encoded data removed]"
          },
          "metadata": {}
        }
      ]
    },
    {
      "cell_type": "code",
      "source": [
        "# Make predictions\n",
        "P = model.predict(X_test)\n",
        "print(P) # they are outputs of the sigmoid, interpreted as probabilities p(y = 1 | x)"
      ],
      "metadata": {
        "colab": {
          "base_uri": "https://localhost:8080/"
        },
        "id": "cKIZ_1bDYUqn",
        "outputId": "871723a0-784e-45a5-e525-9db225f71c49"
      },
      "execution_count": 16,
      "outputs": [
        {
          "output_type": "stream",
          "name": "stdout",
          "text": [
            "6/6 [==============================] - 0s 1ms/step\n",
            "[[2.08733181e-04]\n",
            " [8.73066983e-06]\n",
            " [5.01397415e-04]\n",
            " [9.84561503e-01]\n",
            " [1.64344043e-01]\n",
            " [9.92765725e-01]\n",
            " [2.58626562e-04]\n",
            " [1.19821236e-01]\n",
            " [3.20256368e-05]\n",
            " [2.42250842e-08]\n",
            " [8.60079288e-01]\n",
            " [9.67992485e-01]\n",
            " [1.56721957e-02]\n",
            " [9.97230351e-01]\n",
            " [1.32210955e-01]\n",
            " [9.32291567e-01]\n",
            " [9.97691691e-01]\n",
            " [9.99413848e-01]\n",
            " [9.99553025e-01]\n",
            " [9.99321163e-01]\n",
            " [9.47360575e-01]\n",
            " [1.75342001e-02]\n",
            " [9.86517906e-01]\n",
            " [9.98639882e-01]\n",
            " [9.99526978e-01]\n",
            " [1.93041153e-02]\n",
            " [1.27889857e-01]\n",
            " [5.96824102e-03]\n",
            " [8.86952043e-01]\n",
            " [8.18287197e-04]\n",
            " [9.91896391e-01]\n",
            " [9.48298931e-01]\n",
            " [6.47807300e-01]\n",
            " [9.98385370e-01]\n",
            " [7.85045683e-01]\n",
            " [9.89035428e-01]\n",
            " [9.96559262e-01]\n",
            " [6.14723265e-01]\n",
            " [5.37744761e-01]\n",
            " [1.88946187e-01]\n",
            " [6.71473801e-01]\n",
            " [2.96388898e-05]\n",
            " [2.39724366e-04]\n",
            " [9.93515909e-01]\n",
            " [5.27974078e-03]\n",
            " [6.00826088e-03]\n",
            " [3.40495899e-04]\n",
            " [7.87108183e-01]\n",
            " [8.56536925e-01]\n",
            " [9.58730996e-01]\n",
            " [6.48744986e-04]\n",
            " [3.56784075e-01]\n",
            " [1.16756205e-07]\n",
            " [9.71262991e-01]\n",
            " [9.99481201e-01]\n",
            " [9.92645085e-01]\n",
            " [9.18929398e-01]\n",
            " [9.19226468e-01]\n",
            " [2.33382510e-04]\n",
            " [9.24961296e-06]\n",
            " [9.00729597e-01]\n",
            " [3.36520956e-03]\n",
            " [6.69251680e-01]\n",
            " [9.82129455e-01]\n",
            " [9.59620535e-01]\n",
            " [9.64272618e-01]\n",
            " [9.91262138e-01]\n",
            " [9.78240192e-01]\n",
            " [9.84854817e-01]\n",
            " [9.88527954e-01]\n",
            " [9.83870924e-01]\n",
            " [9.96772707e-01]\n",
            " [2.55462397e-02]\n",
            " [9.90282893e-01]\n",
            " [1.51172774e-02]\n",
            " [9.40342605e-01]\n",
            " [8.56892586e-01]\n",
            " [5.15610154e-04]\n",
            " [2.46526375e-02]\n",
            " [9.84912217e-01]\n",
            " [9.55903590e-01]\n",
            " [1.76165180e-04]\n",
            " [8.55116606e-01]\n",
            " [9.98664141e-01]\n",
            " [9.65689600e-01]\n",
            " [6.72500208e-02]\n",
            " [8.41192377e-05]\n",
            " [9.90695834e-01]\n",
            " [9.88976955e-01]\n",
            " [9.63828683e-01]\n",
            " [2.38185935e-02]\n",
            " [9.82713699e-01]\n",
            " [6.68836537e-06]\n",
            " [2.33695580e-04]\n",
            " [9.88411129e-01]\n",
            " [9.96503630e-04]\n",
            " [9.99995232e-01]\n",
            " [5.18244086e-03]\n",
            " [9.84366715e-01]\n",
            " [4.49222177e-01]\n",
            " [7.47640105e-03]\n",
            " [9.61865127e-01]\n",
            " [6.99406043e-02]\n",
            " [9.97887373e-01]\n",
            " [9.99837160e-01]\n",
            " [9.62397277e-01]\n",
            " [7.50508785e-01]\n",
            " [9.97183263e-01]\n",
            " [2.32043327e-03]\n",
            " [2.16163744e-06]\n",
            " [9.04610515e-01]\n",
            " [9.89220798e-01]\n",
            " [2.45252068e-05]\n",
            " [9.93934989e-01]\n",
            " [9.97782469e-01]\n",
            " [9.99898672e-01]\n",
            " [1.53438014e-05]\n",
            " [6.78905100e-02]\n",
            " [5.75240374e-01]\n",
            " [9.96819019e-01]\n",
            " [3.69361544e-04]\n",
            " [5.54379225e-02]\n",
            " [9.64903116e-01]\n",
            " [9.99708533e-01]\n",
            " [9.98580873e-01]\n",
            " [1.10894519e-14]\n",
            " [4.78784531e-01]\n",
            " [3.92780274e-01]\n",
            " [9.15701449e-01]\n",
            " [8.02682698e-01]\n",
            " [9.77665126e-01]\n",
            " [8.86556809e-05]\n",
            " [9.59388614e-01]\n",
            " [9.99068618e-01]\n",
            " [9.98398066e-01]\n",
            " [8.94212484e-01]\n",
            " [8.44777465e-01]\n",
            " [8.26771796e-01]\n",
            " [9.97005880e-01]\n",
            " [9.14607286e-01]\n",
            " [9.98766124e-01]\n",
            " [7.74158805e-04]\n",
            " [8.73047888e-01]\n",
            " [2.44769454e-03]\n",
            " [5.84385134e-07]\n",
            " [7.84802064e-03]\n",
            " [9.89278316e-01]\n",
            " [1.37089625e-01]\n",
            " [9.76093769e-01]\n",
            " [9.19326425e-01]\n",
            " [9.53359485e-01]\n",
            " [7.51168966e-01]\n",
            " [9.43141043e-01]\n",
            " [9.98725235e-01]\n",
            " [7.83589303e-01]\n",
            " [9.92325544e-01]\n",
            " [8.29638392e-02]\n",
            " [9.98195529e-01]\n",
            " [6.19426601e-06]\n",
            " [9.77579236e-01]\n",
            " [8.37255657e-01]\n",
            " [8.68049562e-01]\n",
            " [9.05629694e-01]\n",
            " [5.28971141e-05]\n",
            " [1.17733947e-03]\n",
            " [9.91593659e-01]\n",
            " [9.54102993e-01]\n",
            " [9.59659100e-01]\n",
            " [9.11758602e-01]\n",
            " [9.82412219e-01]\n",
            " [9.90229547e-01]\n",
            " [9.71784949e-01]\n",
            " [9.99396563e-01]\n",
            " [9.74322081e-01]\n",
            " [4.32000583e-04]\n",
            " [9.93738770e-01]\n",
            " [3.14746827e-01]\n",
            " [1.83476508e-01]\n",
            " [8.44593525e-01]\n",
            " [9.69630957e-01]\n",
            " [9.94287848e-01]\n",
            " [9.27514732e-01]\n",
            " [9.97290671e-01]\n",
            " [9.80309129e-01]\n",
            " [7.41749108e-01]\n",
            " [6.51941121e-01]\n",
            " [1.68732941e-01]\n",
            " [4.29584771e-01]]\n"
          ]
        }
      ]
    },
    {
      "cell_type": "code",
      "source": [
        "# Round to get the actual predictions\n",
        "# Note: has to be flattened since the targets are size (N,) while the predictions are size (N,1)\n",
        "import numpy as np\n",
        "P = np.round(P).flatten()\n",
        "print(P)"
      ],
      "metadata": {
        "colab": {
          "base_uri": "https://localhost:8080/"
        },
        "id": "1fa91useYZRh",
        "outputId": "9f7c2799-93a7-4a66-c0e4-05db5fad536f"
      },
      "execution_count": 17,
      "outputs": [
        {
          "output_type": "stream",
          "name": "stdout",
          "text": [
            "[0. 0. 0. 1. 0. 1. 0. 0. 0. 0. 1. 1. 0. 1. 0. 1. 1. 1. 1. 1. 1. 0. 1. 1.\n",
            " 1. 0. 0. 0. 1. 0. 1. 1. 1. 1. 1. 1. 1. 1. 1. 0. 1. 0. 0. 1. 0. 0. 0. 1.\n",
            " 1. 1. 0. 0. 0. 1. 1. 1. 1. 1. 0. 0. 1. 0. 1. 1. 1. 1. 1. 1. 1. 1. 1. 1.\n",
            " 0. 1. 0. 1. 1. 0. 0. 1. 1. 0. 1. 1. 1. 0. 0. 1. 1. 1. 0. 1. 0. 0. 1. 0.\n",
            " 1. 0. 1. 0. 0. 1. 0. 1. 1. 1. 1. 1. 0. 0. 1. 1. 0. 1. 1. 1. 0. 0. 1. 1.\n",
            " 0. 0. 1. 1. 1. 0. 0. 0. 1. 1. 1. 0. 1. 1. 1. 1. 1. 1. 1. 1. 1. 0. 1. 0.\n",
            " 0. 0. 1. 0. 1. 1. 1. 1. 1. 1. 1. 1. 0. 1. 0. 1. 1. 1. 1. 0. 0. 1. 1. 1.\n",
            " 1. 1. 1. 1. 1. 1. 0. 1. 0. 0. 1. 1. 1. 1. 1. 1. 1. 1. 0. 0.]\n"
          ]
        }
      ]
    },
    {
      "cell_type": "code",
      "source": [
        "# Calculate the accuracy, compare it to evaluate() output\n",
        "print(\"Manually calculated accuracy:\", np.mean(P == y_test))\n",
        "print(\"Evaluate output:\", model.evaluate(X_test, y_test))"
      ],
      "metadata": {
        "colab": {
          "base_uri": "https://localhost:8080/"
        },
        "id": "UFBLWmeBYk7O",
        "outputId": "fcdff886-1d72-4cfd-de99-e55ebe0de9db"
      },
      "execution_count": 18,
      "outputs": [
        {
          "output_type": "stream",
          "name": "stdout",
          "text": [
            "Manually calculated accuracy: 0.9840425531914894\n",
            "6/6 [==============================] - 0s 2ms/step - loss: 0.0978 - accuracy: 0.9840\n",
            "Evaluate output: [0.09782170504331589, 0.9840425252914429]\n"
          ]
        }
      ]
    },
    {
      "cell_type": "code",
      "source": [
        "# Let's now save our model to a file\n",
        "model.save('linearclassifier.h5')"
      ],
      "metadata": {
        "colab": {
          "base_uri": "https://localhost:8080/"
        },
        "id": "KepMJTbTYo6Z",
        "outputId": "e94888cb-d233-4218-a3ba-4cdd190564cb"
      },
      "execution_count": 19,
      "outputs": [
        {
          "output_type": "stream",
          "name": "stderr",
          "text": [
            "/usr/local/lib/python3.10/dist-packages/keras/src/engine/training.py:3103: UserWarning: You are saving your model as an HDF5 file via `model.save()`. This file format is considered legacy. We recommend using instead the native Keras format, e.g. `model.save('my_model.keras')`.\n",
            "  saving_api.save_model(\n"
          ]
        }
      ]
    },
    {
      "cell_type": "code",
      "source": [
        "# Check that the model file exists\n",
        "!ls -lh"
      ],
      "metadata": {
        "colab": {
          "base_uri": "https://localhost:8080/"
        },
        "id": "u4SKWgC_Yvww",
        "outputId": "b8971193-3840-4721-e514-7354b6732f73"
      },
      "execution_count": 20,
      "outputs": [
        {
          "output_type": "stream",
          "name": "stdout",
          "text": [
            "total 24K\n",
            "-rw-r--r-- 1 root root  20K Feb 12 18:33 linearclassifier.h5\n",
            "drwxr-xr-x 1 root root 4.0K Feb  9 14:20 sample_data\n"
          ]
        }
      ]
    },
    {
      "cell_type": "code",
      "source": [
        "# Let's load the model and confirm that it still works\n",
        "# Note: there is a bug in Keras where load/save only works if you DON'T use the Input() layer explicitly\n",
        "# So, make sure you define the model with ONLY Dense(1, input_shape=(D,))\n",
        "# At least, until the bug is fixed\n",
        "# https://github.com/keras-team/keras/issues/10417\n",
        "model = tf.keras.models.load_model('linearclassifier.h5')\n",
        "print(model.layers)\n",
        "model.evaluate(X_test, y_test)"
      ],
      "metadata": {
        "colab": {
          "base_uri": "https://localhost:8080/"
        },
        "id": "1DC2gDUwYyJ2",
        "outputId": "43ae24a4-e685-40a6-a875-2e6da399363b"
      },
      "execution_count": 21,
      "outputs": [
        {
          "output_type": "stream",
          "name": "stdout",
          "text": [
            "[<keras.src.layers.core.dense.Dense object at 0x7e5f2654f700>]\n",
            "6/6 [==============================] - 0s 2ms/step - loss: 0.0978 - accuracy: 0.9840\n"
          ]
        },
        {
          "output_type": "execute_result",
          "data": {
            "text/plain": [
              "[0.09782170504331589, 0.9840425252914429]"
            ]
          },
          "metadata": {},
          "execution_count": 21
        }
      ]
    },
    {
      "cell_type": "code",
      "source": [
        "# Download the file - requires Chrome (at this point)\n",
        "from google.colab import files\n",
        "files.download('linearclassifier.h5')"
      ],
      "metadata": {
        "colab": {
          "base_uri": "https://localhost:8080/",
          "height": 17
        },
        "id": "upIOTcJPY02w",
        "outputId": "d43c81dd-9938-4be0-ff41-46965922e233"
      },
      "execution_count": 22,
      "outputs": [
        {
          "output_type": "display_data",
          "data": {
            "text/plain": [
              "<IPython.core.display.Javascript object>"
            ],
            "application/javascript": [
              "\n",
              "    async function download(id, filename, size) {\n",
              "      if (!google.colab.kernel.accessAllowed) {\n",
              "        return;\n",
              "      }\n",
              "      const div = document.createElement('div');\n",
              "      const label = document.createElement('label');\n",
              "      label.textContent = `Downloading \"${filename}\": `;\n",
              "      div.appendChild(label);\n",
              "      const progress = document.createElement('progress');\n",
              "      progress.max = size;\n",
              "      div.appendChild(progress);\n",
              "      document.body.appendChild(div);\n",
              "\n",
              "      const buffers = [];\n",
              "      let downloaded = 0;\n",
              "\n",
              "      const channel = await google.colab.kernel.comms.open(id);\n",
              "      // Send a message to notify the kernel that we're ready.\n",
              "      channel.send({})\n",
              "\n",
              "      for await (const message of channel.messages) {\n",
              "        // Send a message to notify the kernel that we're ready.\n",
              "        channel.send({})\n",
              "        if (message.buffers) {\n",
              "          for (const buffer of message.buffers) {\n",
              "            buffers.push(buffer);\n",
              "            downloaded += buffer.byteLength;\n",
              "            progress.value = downloaded;\n",
              "          }\n",
              "        }\n",
              "      }\n",
              "      const blob = new Blob(buffers, {type: 'application/binary'});\n",
              "      const a = document.createElement('a');\n",
              "      a.href = window.URL.createObjectURL(blob);\n",
              "      a.download = filename;\n",
              "      div.appendChild(a);\n",
              "      a.click();\n",
              "      div.remove();\n",
              "    }\n",
              "  "
            ]
          },
          "metadata": {}
        },
        {
          "output_type": "display_data",
          "data": {
            "text/plain": [
              "<IPython.core.display.Javascript object>"
            ],
            "application/javascript": [
              "download(\"download_fb6e0554-d149-4f46-aa9d-43567599a504\", \"linearclassifier.h5\", 20240)"
            ]
          },
          "metadata": {}
        }
      ]
    }
  ]
}